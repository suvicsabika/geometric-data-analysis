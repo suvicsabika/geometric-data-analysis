{
 "cells": [
  {
   "cell_type": "code",
   "execution_count": 1,
   "id": "2f2fa44a",
   "metadata": {},
   "outputs": [
    {
     "name": "stdout",
     "output_type": "stream",
     "text": [
      "Note: you may need to restart the kernel to use updated packages.\n"
     ]
    },
    {
     "name": "stderr",
     "output_type": "stream",
     "text": [
      "\n",
      "[notice] A new release of pip is available: 24.3.1 -> 25.1.1\n",
      "[notice] To update, run: python.exe -m pip install --upgrade pip\n"
     ]
    }
   ],
   "source": [
    "%pip install -q ultralytics deep_sort_realtime opencv-python\n"
   ]
  },
  {
   "cell_type": "code",
   "execution_count": null,
   "id": "02617488",
   "metadata": {},
   "outputs": [
    {
     "name": "stdout",
     "output_type": "stream",
     "text": [
      "Tracking data saved to trajectory_data_deepsort.csv\n"
     ]
    }
   ],
   "source": [
    "import os\n",
    "import cv2\n",
    "import numpy as np\n",
    "import pandas as pd\n",
    "from ultralytics import YOLO\n",
    "from deep_sort_realtime.deepsort_tracker import DeepSort\n",
    "import matplotlib.pyplot as plt\n",
    "\n",
    "# 2. Load video\n",
    "video_path = \"../utilities/cars_on_the_highway.mp4\"\n",
    "if not os.path.exists(video_path):\n",
    "    raise FileNotFoundError(f\"Video file {video_path} not found. Please check the path.\")\n",
    "\n",
    "cap = cv2.VideoCapture(video_path)\n",
    "\n",
    "# 3. Load YOLO model for detection\n",
    "model_path = \"../utilities/yolov8n.pt\"  # Path to your YOLO model\n",
    "if not os.path.exists(model_path):\n",
    "    raise FileNotFoundError(f\"Model file {model_path} not found. Please check the path.\")\n",
    "\n",
    "model = YOLO(model_path)\n",
    "\n",
    "# 4. Deep SORT inicializálása\n",
    "tracker = DeepSort(max_age=30)\n",
    "\n",
    "# 5. Tracking adatok tárolására lista\n",
    "tracked_data = []\n",
    "frame_idx = 0\n",
    "\n",
    "while cap.isOpened():\n",
    "    ret, frame = cap.read()\n",
    "    if not ret:\n",
    "        break\n",
    "\n",
    "    results = model.predict(frame, classes=[2, 5, 7], conf=0.4, verbose=False)\n",
    "    detections = []\n",
    "\n",
    "    for r in results:\n",
    "        for box in r.boxes:\n",
    "            x1, y1, x2, y2 = box.xyxy[0].cpu().numpy()\n",
    "            conf = box.conf[0].cpu().item()\n",
    "            cls = int(box.cls[0].item())\n",
    "            detections.append([[x1, y1, x2 - x1, y2 - y1], conf, str(cls)])\n",
    "\n",
    "    tracks = tracker.update_tracks(detections, frame=frame)\n",
    "\n",
    "    for track in tracks:\n",
    "        if not track.is_confirmed():\n",
    "            continue\n",
    "        track_id = track.track_id\n",
    "        ltrb = track.to_ltrb()\n",
    "        x1, y1, x2, y2 = map(int, ltrb)\n",
    "\n",
    "        tracked_data.append([frame_idx, track_id, x1, y1, x2, y2])\n",
    "\n",
    "        cv2.rectangle(frame, (x1, y1), (x2, y2), (0, 0, 255), 2)\n",
    "        cv2.putText(frame, f\"ID {track_id}\", (x1, y1 - 10), cv2.FONT_HERSHEY_SIMPLEX, 0.6, (0, 0, 255), 2)\n",
    "\n",
    "    frame_idx += 1\n",
    "    # cv2.namedWindow(\"Tracking\", cv2.WINDOW_NORMAL)\n",
    "    # cv2.resizeWindow(\"Tracking\", 800, 600)\n",
    "    # cv2.imshow(\"Deep SORT Tracking\", frame)\n",
    "    # if cv2.waitKey(1) & 0xFF == ord('q'):\n",
    "    #     break\n",
    "\n",
    "cap.release()\n",
    "cv2.destroyAllWindows()\n",
    "\n",
    "# 6. Eredmények mentése CSV-be\n",
    "columns = [\"frame\", \"id\", \"x1\", \"y1\", \"x2\", \"y2\"]\n",
    "df = pd.DataFrame(tracked_data, columns=columns)\n",
    "df.to_csv(\"trajectory_data_deepsort.csv\", index=False)\n",
    "print(\"Tracking data saved to trajectory_data_deepsort.csv\")\n"
   ]
  }
 ],
 "metadata": {
  "kernelspec": {
   "display_name": "Python 3",
   "language": "python",
   "name": "python3"
  },
  "language_info": {
   "codemirror_mode": {
    "name": "ipython",
    "version": 3
   },
   "file_extension": ".py",
   "mimetype": "text/x-python",
   "name": "python",
   "nbconvert_exporter": "python",
   "pygments_lexer": "ipython3",
   "version": "3.13.2"
  }
 },
 "nbformat": 4,
 "nbformat_minor": 5
}
