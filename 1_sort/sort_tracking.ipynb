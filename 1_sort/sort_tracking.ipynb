{
 "cells": [
  {
   "cell_type": "code",
   "execution_count": 4,
   "id": "4ebcd980",
   "metadata": {},
   "outputs": [
    {
     "name": "stderr",
     "output_type": "stream",
     "text": [
      "Cloning into 'sort'...\n"
     ]
    }
   ],
   "source": [
    "!git clone https://github.com/abewley/sort.git\n"
   ]
  },
  {
   "cell_type": "code",
   "execution_count": null,
   "id": "cf1d2142",
   "metadata": {},
   "outputs": [
    {
     "name": "stdout",
     "output_type": "stream",
     "text": [
      "Note: you may need to restart the kernel to use updated packages.\n"
     ]
    },
    {
     "name": "stderr",
     "output_type": "stream",
     "text": [
      "\n",
      "Usage:   \n",
      "  c:\\Users\\HP\\AppData\\Local\\Programs\\Python\\Python313\\python.exe -m pip install [options] <requirement specifier> [package-index-options] ...\n",
      "  c:\\Users\\HP\\AppData\\Local\\Programs\\Python\\Python313\\python.exe -m pip install [options] -r <requirements file> [package-index-options] ...\n",
      "  c:\\Users\\HP\\AppData\\Local\\Programs\\Python\\Python313\\python.exe -m pip install [options] [-e] <vcs project url> ...\n",
      "  c:\\Users\\HP\\AppData\\Local\\Programs\\Python\\Python313\\python.exe -m pip install [options] [-e] <local project path> ...\n",
      "  c:\\Users\\HP\\AppData\\Local\\Programs\\Python\\Python313\\python.exe -m pip install [options] <archive url/path> ...\n",
      "\n",
      "no such option: --quet\n"
     ]
    },
    {
     "name": "stdout",
     "output_type": "stream",
     "text": [
      "Note: you may need to restart the kernel to use updated packages.\n"
     ]
    },
    {
     "name": "stderr",
     "output_type": "stream",
     "text": [
      "\n",
      "[notice] A new release of pip is available: 24.3.1 -> 25.1.1\n",
      "[notice] To update, run: python.exe -m pip install --upgrade pip\n"
     ]
    }
   ],
   "source": [
    "%pip install -q ultralytics opencv-python filterpy\n",
    "%pip install -q scikit-image\n"
   ]
  },
  {
   "cell_type": "code",
   "execution_count": null,
   "id": "27440ef5",
   "metadata": {},
   "outputs": [
    {
     "name": "stdout",
     "output_type": "stream",
     "text": [
      "Tracking data saved to trajectory_data_sort.csv\n"
     ]
    }
   ],
   "source": [
    "\n",
    "import cv2\n",
    "import numpy as np\n",
    "import pandas as pd\n",
    "from ultralytics import YOLO\n",
    "import sys\n",
    "sys.path.append(\"sort\")\n",
    "from sort import Sort  # SORT tracker\n",
    "import matplotlib.pyplot as plt\n",
    "import os\n",
    "\n",
    "# 2. Load video\n",
    "video_path = \"../utilities/cars_on_the_highway.mp4\"\n",
    "if not os.path.exists(video_path):\n",
    "    raise FileNotFoundError(f\"Video file {video_path} not found. Please check the path.\")\n",
    "\n",
    "cap = cv2.VideoCapture(video_path)\n",
    "\n",
    "# 3. Load YOLO model for detection\n",
    "model_path = \"../utilities/yolov8n.pt\"  # Path to your YOLO model\n",
    "if not os.path.exists(model_path):\n",
    "    raise FileNotFoundError(f\"Model file {model_path} not found. Please check the path.\")\n",
    "\n",
    "model = YOLO(model_path)\n",
    "\n",
    "# 4. Inicialize SORT tracker\n",
    "tracker = Sort()\n",
    "\n",
    "# 5. Storing tracking data\n",
    "tracked_data = []\n",
    "frame_idx = 0\n",
    "\n",
    "while cap.isOpened():\n",
    "    ret, frame = cap.read()\n",
    "    if not ret:\n",
    "        break\n",
    "\n",
    "    results = model.predict(frame, classes=[2, 5, 7], conf=0.4, verbose=False)  # car, bus, truck\n",
    "    detections = []\n",
    "\n",
    "    for r in results:\n",
    "        for box in r.boxes:\n",
    "            x1, y1, x2, y2 = box.xyxy[0].cpu().numpy()\n",
    "            conf = box.conf[0].cpu().item()\n",
    "            detections.append([x1, y1, x2, y2, conf])\n",
    "\n",
    "    det_array = np.array(detections)\n",
    "\n",
    "    if det_array.shape[0] == 0:\n",
    "        det_array = np.empty((0, 5))  # Empty array if no detections\n",
    "\n",
    "    tracks = tracker.update(det_array)\n",
    "\n",
    "\n",
    "    for track in tracks:\n",
    "        x1, y1, x2, y2, track_id = track.astype(int)\n",
    "        tracked_data.append([frame_idx, track_id, x1, y1, x2, y2])\n",
    "        \n",
    "        cv2.rectangle(frame, (x1, y1), (x2, y2), (0, 255, 0), 2)\n",
    "        cv2.putText(frame, f\"ID {track_id}\", (x1, y1 - 10), cv2.FONT_HERSHEY_SIMPLEX, 0.6, (0, 255, 0), 2)\n",
    "\n",
    "    frame_idx += 1\n",
    "    # cv2.namedWindow(\"Tracking\", cv2.WINDOW_NORMAL)\n",
    "    # cv2.resizeWindow(\"Tracking\", 800, 600)\n",
    "    # cv2.imshow(\"Tracking\", frame)\n",
    "    # if cv2.waitKey(1) & 0xFF == ord('q'):\n",
    "    #     break\n",
    "\n",
    "\n",
    "cap.release()\n",
    "cv2.destroyAllWindows()\n",
    "\n",
    "# 6. Saving data to .csv file\n",
    "columns = [\"frame\", \"id\", \"x1\", \"y1\", \"x2\", \"y2\"]\n",
    "df = pd.DataFrame(tracked_data, columns=columns)\n",
    "df.to_csv(\"trajectory_data_sort.csv\", index=False)\n",
    "print(\"Tracking data saved to trajectory_data_sort.csv\")\n"
   ]
  }
 ],
 "metadata": {
  "kernelspec": {
   "display_name": "Python 3",
   "language": "python",
   "name": "python3"
  },
  "language_info": {
   "codemirror_mode": {
    "name": "ipython",
    "version": 3
   },
   "file_extension": ".py",
   "mimetype": "text/x-python",
   "name": "python",
   "nbconvert_exporter": "python",
   "pygments_lexer": "ipython3",
   "version": "3.13.2"
  }
 },
 "nbformat": 4,
 "nbformat_minor": 5
}
